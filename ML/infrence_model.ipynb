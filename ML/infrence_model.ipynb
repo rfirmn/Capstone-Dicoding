{
 "cells": [
  {
   "cell_type": "markdown",
   "id": "ad445bb8",
   "metadata": {},
   "source": [
    "# **IMPORT LIBRARY**"
   ]
  },
  {
   "cell_type": "code",
   "execution_count": 29,
   "id": "71686e2f",
   "metadata": {},
   "outputs": [],
   "source": [
    "import cv2\n",
    "import os\n",
    "import re\n",
    "import math\n",
    "import numpy as np\n",
    "from ultralytics import YOLO\n",
    "import pytesseract\n",
    "from PIL import Image"
   ]
  },
  {
   "cell_type": "markdown",
   "id": "d3009726",
   "metadata": {},
   "source": [
    "# **CONFIG TESTING**"
   ]
  },
  {
   "cell_type": "code",
   "execution_count": null,
   "id": "fcea473d",
   "metadata": {},
   "outputs": [],
   "source": [
    "# --- 0. Konfigurasi ---\n",
    "\n",
    "# Sesuaikan dengan model path yang dimiliki\n",
    "model_path = 'my_model.pt'\n",
    "# Sesuikan dengan image path yang ingin di test\n",
    "image_path = 'image_path'\n",
    "\n",
    "output_crop_dir = \"cropped_objects\" \n",
    "CONF_THRESHOLD = 0.5\n",
    "\n",
    "# Pastikan direktori output ada\n",
    "os.makedirs(output_crop_dir, exist_ok=True)"
   ]
  },
  {
   "cell_type": "markdown",
   "id": "052c9a72",
   "metadata": {},
   "source": [
    "# **DATA LOADING**"
   ]
  },
  {
   "cell_type": "code",
   "execution_count": 44,
   "id": "341a86ab",
   "metadata": {},
   "outputs": [],
   "source": [
    "# Image Loading\n",
    "try:\n",
    "    model = YOLO(model_path, task='obb') # Tentukan task='obb' secara eksplisit\n",
    "except Exception as e:\n",
    "    print(f\"Gagal memuat model: {e}\")\n",
    "    exit()\n",
    "\n",
    "# Muat gambar dan ubah ukuran\n",
    "original_image = cv2.imread(image_path)\n",
    "if original_image is None:\n",
    "    print(f\"Gagal memuat gambar dari: {image_path}\")\n",
    "    exit()\n",
    "\n",
    "# Gambar yang di-resize harus dalam BGR (default CV2) agar sesuai dengan hasil BBox\n",
    "resized_image = cv2.resize(original_image, (640, 640), interpolation=cv2.INTER_LINEAR)"
   ]
  },
  {
   "cell_type": "markdown",
   "id": "8dc0d82a",
   "metadata": {},
   "source": [
    "# **PREDICTION**"
   ]
  },
  {
   "cell_type": "code",
   "execution_count": null,
   "id": "a4bd1287",
   "metadata": {},
   "outputs": [
    {
     "name": "stdout",
     "output_type": "stream",
     "text": [
      "--- Inferensi Dimulai pada /Users/rio/Downloads/iLoveIMG Converted/IMG_1640.jpg ---\n",
      "\n",
      "0: 640x640 1 kalori, 1 lemak, 1 nutrition-fact, 1 serving, 1 takaran-satuan, 247.9ms\n",
      "Speed: 8.7ms preprocess, 247.9ms inference, 14.5ms postprocess per image at shape (1, 3, 640, 640)\n"
     ]
    }
   ],
   "source": [
    "\n",
    "# Model Prediction\n",
    "results = model.predict(\n",
    "    source=resized_image, \n",
    "    conf=CONF_THRESHOLD, \n",
    "    save=False,\n",
    "    verbose=True # Matikan output log yang berlebihan\n",
    ")"
   ]
  },
  {
   "cell_type": "code",
   "execution_count": null,
   "id": "ede5e330",
   "metadata": {},
   "outputs": [],
   "source": [
    "# Dictionary ini akan menyimpan deteksi terbaik untuk setiap label kelas\n",
    "best_detections = {}\n",
    "\n",
    "for r in results:\n",
    "    # Mengakses hasil OBB\n",
    "    # Gunakan r.boxes untuk kotak batas persegi standar (lebih mudah untuk cropping)\n",
    "    boxes = r.boxes if r.boxes is not None and len(r.boxes) > 0 else (r.obb if hasattr(r, 'obb') and r.obb is not None else None)\n",
    "\n",
    "    # Perbaikan: Cek apakah ada deteksi yang valid\n",
    "    if boxes is None or len(boxes) == 0:\n",
    "        continue\n",
    "\n",
    "    # Filter Object duplikat\n",
    "    for box in boxes:\n",
    "        conf = box.conf[0].item()\n",
    "        cls = box.cls[0].item()\n",
    "        label = model.names.get(int(cls), f\"Unknown_{int(cls)}\")\n",
    "\n",
    "        # tidak membutuhkan object nutrition-fact\n",
    "        if label == \"nutrition-fact\":\n",
    "            continue\n",
    "\n",
    "        # menyimpan hasil deteksi\n",
    "        # Kunci (key) adalah label, Nilai (value) adalah dictionary berisi box dan conf\n",
    "        if label not in best_detections or conf > best_detections[label]['conf']:\n",
    "            best_detections[label] = {\n",
    "                'box': box,\n",
    "                'conf': conf,\n",
    "                'cls': cls\n",
    "            }"
   ]
  },
  {
   "cell_type": "markdown",
   "id": "3cab0de8",
   "metadata": {},
   "source": [
    "# **CROPPING**"
   ]
  },
  {
   "cell_type": "code",
   "execution_count": null,
   "id": "ae1ce269",
   "metadata": {},
   "outputs": [
    {
     "name": "stdout",
     "output_type": "stream",
     "text": [
      "\n",
      "--- Proses Cropping Dimulai ---\n",
      "✅ Berhasil crop 'takaran-satuan' (Conf: 0.88). Disimpan di: cropped_objects/takaran-satuan_00_88.jpg\n",
      "✅ Berhasil crop 'serving' (Conf: 0.68). Disimpan di: cropped_objects/serving_01_68.jpg\n",
      "✅ Berhasil crop 'kalori' (Conf: 0.67). Disimpan di: cropped_objects/kalori_02_66.jpg\n",
      "✅ Berhasil crop 'lemak' (Conf: 0.58). Disimpan di: cropped_objects/lemak_03_57.jpg\n",
      "\n",
      "Proses selesai. Total 4 objek unik telah di-crop dan disimpan di direktori 'cropped_objects'.\n"
     ]
    }
   ],
   "source": [
    "print(\"\\n--- Proses Cropping Dimulai ---\")\n",
    "detection_count = 0\n",
    "\n",
    "# Iterasi Croping\n",
    "for label, data in best_detections.items():\n",
    "    \n",
    "    # Ambil data dari deteksi terbaik\n",
    "    box = data['box']\n",
    "    conf = data['conf']\n",
    "    cls = data['cls']\n",
    "    \n",
    "    # Mendapatkan BBox dan Label\n",
    "    # Koordinat dalam bentuk (x1, y1, x2, y2)\n",
    "    xyxy_tensor = box.xyxy[0].cpu() # Ambil tensor, pastikan di CPU\n",
    "    x_min, y_min, x_max, y_max = xyxy_tensor.numpy().astype(int)\n",
    "\n",
    "    # Melakukan cropping dengan Slicing NumPy (CV2)\n",
    "    # Format Slicing: [y_min:y_max, x_min:x_max]\n",
    "    cropped_segment = resized_image[y_min:y_max, x_min:x_max]\n",
    "\n",
    "    # Chekck and save image\n",
    "    # Minimal lebar atau tinggi 1 piksel\n",
    "    if cropped_segment.shape[0] > 1 and cropped_segment.shape[1] > 1:\n",
    "        # Nama file: label_index_conf.jpg\n",
    "        output_filename = os.path.join(output_crop_dir, f\"{label}_{detection_count:02d}_{int(conf*100)}.jpg\")\n",
    "        cv2.imwrite(output_filename, cropped_segment)\n",
    "        \n",
    "        print(f\"✅ Berhasil crop '{label}' (Conf: {conf:.2f}). Disimpan di: {output_filename}\")\n",
    "        detection_count += 1\n",
    "    else:\n",
    "        print(f\"❌ Gagal crop '{label}'. BBox sangat kecil atau tidak valid.\")\n",
    "\n",
    "print(f\"\\nProses selesai. Total {detection_count} objek unik telah di-crop dan disimpan di direktori '{output_crop_dir}'.\")"
   ]
  },
  {
   "cell_type": "markdown",
   "id": "66de2868",
   "metadata": {},
   "source": [
    "# **INFERENCE OCR**"
   ]
  },
  {
   "cell_type": "code",
   "execution_count": 35,
   "id": "9d1df418",
   "metadata": {},
   "outputs": [
    {
     "name": "stdout",
     "output_type": "stream",
     "text": [
      "Memulai proses OCR hanya dengan upscaling 5x pada gambar di 'cropped_objects'...\n",
      "\n",
      "--- serving_01_68.jpg (serving) ---\n",
      "Teks Terekstrak: \n",
      "\n",
      "--- takaran-satuan_00_88.jpg (takaran-satuan) ---\n",
      "Teks Terekstrak: \n",
      "\n",
      "--- lemak_03_57.jpg (lemak) ---\n",
      "Teks Terekstrak: \n",
      "\n",
      "--- kalori_02_66.jpg (kalori) ---\n",
      "Teks Terekstrak: _ Energi Total 160 kkal\n",
      "\n",
      "----------------------------------------------------\n",
      "✅ Ringkasan Data Terekstrak Akhir:\n",
      "serving   : \n",
      "takaran-satuan: \n",
      "lemak     : \n",
      "kalori    : _ Energi Total 160 kkal\n",
      "----------------------------------------------------\n"
     ]
    }
   ],
   "source": [
    "\n",
    "# --- Konfigurasi ---\n",
    "# Direktori tempat gambar hasil crop Anda berada\n",
    "INPUT_CROP_DIR = \"cropped_objects\" \n",
    "# Faktor penskalaan untuk memperbesar gambar (misalnya 3x)\n",
    "UPSCALE_FACTOR = 5 \n",
    "\n",
    "# Opsional: Tentukan path Tesseract jika tidak terdeteksi oleh sistem\n",
    "# Contoh Windows:\n",
    "# pytesseract.pytesseract.tesseract_cmd = r'C:\\Program Files\\Tesseract-OCR\\tesseract.exe'\n",
    "\n",
    "# --- Proses Utama OCR (Tanpa Preprocessing CV2) ---\n",
    "print(f\"Memulai proses OCR hanya dengan upscaling {UPSCALE_FACTOR}x pada gambar di '{INPUT_CROP_DIR}'...\")\n",
    "\n",
    "extracted_data = {}\n",
    "\n",
    "for filename in os.listdir(INPUT_CROP_DIR):\n",
    "    if filename.endswith((\".jpg\", \".jpeg\", \".png\")):\n",
    "        \n",
    "        file_path = os.path.join(INPUT_CROP_DIR, filename)\n",
    "        \n",
    "        # Dapatkan label objek (misalnya 'garam_01.jpg' -> 'garam')\n",
    "        try:\n",
    "            object_label = filename.split('_')[0] \n",
    "        except IndexError:\n",
    "            object_label = \"unknown\"\n",
    "\n",
    "        # 1. Muat Gambar Asli (Hasil Crop)\n",
    "        img_cv2 = cv2.imread(file_path)\n",
    "        \n",
    "        if img_cv2 is None:\n",
    "            print(f\"Gagal memuat {filename}.\")\n",
    "            continue\n",
    "            \n",
    "        # 2. Upscaling (Penskalaan)\n",
    "        # Penting untuk teks kecil. INTER_CUBIC menjaga ketajaman tepi.\n",
    "        upscaled_img = cv2.resize(\n",
    "            img_cv2, \n",
    "            None, \n",
    "            fx=UPSCALE_FACTOR, \n",
    "            fy=UPSCALE_FACTOR, \n",
    "            interpolation=cv2.INTER_CUBIC\n",
    "        )\n",
    "        \n",
    "        # 3. Konversi cv2 (NumPy array BGR) ke PIL Image (Pytesseract)\n",
    "        # Pytesseract akan menangani konversi grayscale/biner secara internal.\n",
    "        img_pil = Image.fromarray(cv2.cvtColor(upscaled_img, cv2.COLOR_BGR2RGB)) # Konversi BGR ke RGB untuk PIL\n",
    "\n",
    "        # 4. Terapkan OCR dengan Konfigurasi\n",
    "        # --psm 7: Asumsi satu baris teks (ideal untuk label nutrisi)\n",
    "        # --oem 3: Gunakan mesin Tesseract terbaru\n",
    "        custom_config = r'--oem 3 --psm 7' \n",
    "        \n",
    "        text = pytesseract.image_to_string(img_pil, config=custom_config)\n",
    "        \n",
    "        # Bersihkan teks\n",
    "        cleaned_text = text.strip().replace('\\n', ' ').replace('|', 'l') \n",
    "\n",
    "        extracted_data[object_label] = cleaned_text\n",
    "        \n",
    "        print(f\"\\n--- {filename} ({object_label}) ---\")\n",
    "        print(f\"Teks Terekstrak: {cleaned_text}\")\n",
    "\n",
    "# --- Ringkasan Hasil ---\n",
    "print(\"\\n----------------------------------------------------\")\n",
    "print(\"✅ Ringkasan Data Terekstrak Akhir:\")\n",
    "for key, value in extracted_data.items():\n",
    "    print(f\"{key:<10}: {value}\")\n",
    "print(\"----------------------------------------------------\")"
   ]
  },
  {
   "cell_type": "markdown",
   "id": "a649b168",
   "metadata": {},
   "source": [
    "# **EXTRACT VALUE**"
   ]
  },
  {
   "cell_type": "markdown",
   "id": "116c30fb",
   "metadata": {},
   "source": [
    "## base value"
   ]
  },
  {
   "cell_type": "code",
   "execution_count": null,
   "id": "1b2e10a3",
   "metadata": {},
   "outputs": [],
   "source": [
    "def clean_and_transform_data(extracted_data: dict) -> dict:\n",
    "    \n",
    "    REQUIRED_KEYS = [\n",
    "        \"garam\",\n",
    "        \"gula\",\n",
    "        \"kalori\",\n",
    "        \"karbo\",\n",
    "        \"lemak\",\n",
    "        \"protein\",\n",
    "        \"serving\",\n",
    "        \"takaran-satuan\",\n",
    "        \"serat\"\n",
    "    ]\n",
    "\n",
    "    # Buat dictionary hasil dengan semua value = 0 (kecuali serving = 1)\n",
    "    cleaned_data = {\n",
    "        key: (1 if key == \"serving\" else 0)\n",
    "        for key in REQUIRED_KEYS\n",
    "    }\n",
    "\n",
    "    # 2. PROSES: Ekstraksi dan Pembatasan\n",
    "    for key, value in extracted_data.items():\n",
    "        \n",
    "        # Hanya proses jika kunci tersebut termasuk dalam daftar wajib\n",
    "        if key in REQUIRED_KEYS:\n",
    "            \n",
    "            # --- LANGKAH 1: EKSTRAKSI TOTAL (Mengambil SEMUA digit) ---\n",
    "            # Regex: Hapus semua karakter non-digit (\\D)\n",
    "            # Ini menangani kasus seperti \"10.5g\" menjadi \"105\"\n",
    "            all_digits_string = re.sub(r'\\D', '', value)\n",
    "            \n",
    "            # --- LANGKAH 2: PEMBATASAN DAN KONVERSI ---\n",
    "            \n",
    "            if all_digits_string:\n",
    "                # Ambil hanya 3 karakter pertama (slicing)\n",
    "                max_3_digits_string = all_digits_string[:3]\n",
    "                \n",
    "                try:\n",
    "                    # Konversi ke Integer\n",
    "                    integer_value = int(max_3_digits_string)\n",
    "                    \n",
    "                    # Hanya update jika nilai baru lebih besar atau kunci bukan 'serving'\n",
    "                    # Ini mencegah nilai inisiasi 'serving' 1 tertimpa oleh 0\n",
    "                    if integer_value > 0 or key != \"serving\":\n",
    "                        cleaned_data[key] = integer_value\n",
    "                        \n",
    "                except ValueError:\n",
    "                    # Biarkan nilai tetap jika konversi gagal\n",
    "                    pass\n",
    "    \n",
    "    return cleaned_data"
   ]
  },
  {
   "cell_type": "code",
   "execution_count": null,
   "id": "0a65ff6e",
   "metadata": {},
   "outputs": [
    {
     "name": "stdout",
     "output_type": "stream",
     "text": [
      "Data Awal yang Diterima: {'garam': 0, 'gula': 0, 'kalori': 160, 'karbo': 0, 'lemak': 0, 'protein': 0, 'serving': 1, 'takaran-satuan': 0, 'serat': 0}\n",
      "\n",
      "--- Hasil Akhir Setelah Transformasi ---\n",
      "garam          : 0\n",
      "gula           : 0\n",
      "kalori         : 160\n",
      "karbo          : 0\n",
      "lemak          : 0\n",
      "protein        : 0\n",
      "serving        : 1\n",
      "takaran-satuan : 0\n",
      "serat          : 0\n"
     ]
    }
   ],
   "source": [
    "# Panggil fungsi\n",
    "final_cleaned_data = clean_and_transform_data(extracted_data)\n",
    "\n",
    "# Mencetak hasil akhir\n",
    "print(\"\\n--- Hasil Akhir Setelah Transformasi ---\")\n",
    "for key, value in final_cleaned_data.items():\n",
    "    print(f\"{key:<15}: {value}\")"
   ]
  },
  {
   "cell_type": "markdown",
   "id": "724a06e7",
   "metadata": {},
   "source": [
    "## Total Nutrition"
   ]
  },
  {
   "cell_type": "code",
   "execution_count": null,
   "id": "02ffecc8",
   "metadata": {},
   "outputs": [],
   "source": [
    "def calculate_total_nutrients(cleaned_data: dict) -> dict:\n",
    "    \n",
    "    # 1. Pastikan nilai 'serving' ada dan bukan nol.\n",
    "    # Jika serving tidak ada (misalnya karena gagal dideteksi), diasumsikan 1.\n",
    "    serving_value = cleaned_data.get('serving', 1)\n",
    "    if serving_value == 0:\n",
    "        serving_value = 1 # Menghindari perkalian dengan nol yang akan menghasilkan nol\n",
    "\n",
    "    # Kunci yang ingin dihitung totalnya (hanya nutrisi)\n",
    "    NUTRIENT_KEYS = [\n",
    "        \"garam\",\n",
    "        \"gula\",\n",
    "        \"kalori\",\n",
    "        \"karbo\",\n",
    "        \"lemak\",\n",
    "        \"protein\",\n",
    "        \"serat\"\n",
    "    ]\n",
    "    \n",
    "    final_nutrients = {}\n",
    "\n",
    "    # Kalkulasi\n",
    "    for key in NUTRIENT_KEYS:\n",
    "        # Ambil nilai nutrisi, jika tidak terdeteksi, value = 0\n",
    "        nutrient_value = cleaned_data.get(key, 0)\n",
    "        \n",
    "        # Hitung Total Nutrisi per Kemasan\n",
    "        total_value = nutrient_value * serving_value\n",
    "        \n",
    "        # Simpan hasil dalam dictionary final\n",
    "        final_nutrients[key] = total_value\n",
    "        \n",
    "        \n",
    "    return final_nutrients"
   ]
  },
  {
   "cell_type": "code",
   "execution_count": 46,
   "id": "33c9b9f8",
   "metadata": {},
   "outputs": [
    {
     "name": "stdout",
     "output_type": "stream",
     "text": [
      "\n",
      "--- Total Nutrisi Per Kemasan ---\n",
      "garam     : 0\n",
      "gula      : 0\n",
      "kalori    : 160\n",
      "karbo     : 0\n",
      "lemak     : 0\n",
      "protein   : 0\n",
      "serat     : 0\n"
     ]
    }
   ],
   "source": [
    "# Panggil fungsi kalkulasi\n",
    "total_nutrients = calculate_total_nutrients(final_cleaned_data)\n",
    "\n",
    "# Mencetak hasil\n",
    "print(\"\\n--- Total Nutrisi Per Kemasan ---\")\n",
    "for key, value in total_nutrients.items():\n",
    "    print(f\"{key:<10}: {value}\")"
   ]
  },
  {
   "cell_type": "markdown",
   "id": "bf1c70d2",
   "metadata": {},
   "source": [
    "## Nutri-Score"
   ]
  },
  {
   "cell_type": "code",
   "execution_count": null,
   "id": "a7994473",
   "metadata": {},
   "outputs": [],
   "source": [
    "def calculate_nutri_score_simplified(cleaned_data: dict) -> str:\n",
    "    \"\"\"\n",
    "    Menghitung Nutri-Score (A hingga E) berdasarkan data nutrisi per porsi.\n",
    "    ASUMSI: Semua satuan adalah Gram (g), kecuali Kalori (Kkal).\n",
    "    \n",
    "    Args:\n",
    "        cleaned_data (dict): Dictionary yang sudah dibersihkan (nilai per porsi/sajian).\n",
    "                             Harus berisi kunci: 'kalori', 'gula', 'lemak', 'garam', \n",
    "                             'protein', 'serat', dan 'takaran-satuan'.\n",
    "                             \n",
    "    Returns:\n",
    "        str: Huruf Nutri-Score (A, B, C, D, atau E).\n",
    "    \"\"\"\n",
    "    \n",
    "    # 1. NORMALISASI: Konversi Nilai Per Porsi ke Nilai Per 100g/ml\n",
    "    \n",
    "    # Asumsi: cleaned_data['takaran-satuan'] adalah berat per porsi dalam gram.\n",
    "    serving_weight_g = cleaned_data.get('takaran-satuan', 100)\n",
    "    if serving_weight_g <= 0:\n",
    "        serving_weight_g = 100 # Default jika takaran satuan gagal terdeteksi\n",
    "        \n",
    "    normalization_factor = 100 / serving_weight_g\n",
    "\n",
    "    # Nutrisi yang dinormalisasi (per 100g)\n",
    "    norm_data = {}\n",
    "    for key in [\"kalori\", \"gula\", \"lemak\", \"garam\", \"protein\", \"serat\"]:\n",
    "        value = cleaned_data.get(key, 0)\n",
    "        norm_data[key] = value * normalization_factor\n",
    "    \n",
    "    # ----------------------------------------------------------------------\n",
    "    # 2. PERHITUNGAN POIN A (Elemen Negatif)\n",
    "    # Thresholds diubah untuk menerima Kkal dan Gram secara langsung.\n",
    "\n",
    "    A_score = 0\n",
    "    \n",
    "    # Ambil nilai per 100g\n",
    "    energi_kkals = norm_data.get('kalori', 0)\n",
    "    gula_g = norm_data.get('gula', 0)\n",
    "    lemak_g = norm_data.get('lemak', 0)\n",
    "    garam_g = norm_data.get('garam', 0)\n",
    "    \n",
    "    # Thresholds Poin Energi (Kkal/100g)\n",
    "    if energi_kkals > 800: A_score += 10\n",
    "    elif energi_kkals > 720: A_score += 9\n",
    "    elif energi_kkals > 640: A_score += 8\n",
    "    elif energi_kkals > 560: A_score += 7\n",
    "    elif energi_kkals > 480: A_score += 6\n",
    "    elif energi_kkals > 400: A_score += 5\n",
    "    elif energi_kkals > 320: A_score += 4\n",
    "    elif energi_kkals > 240: A_score += 3\n",
    "    elif energi_kkals > 160: A_score += 2\n",
    "    elif energi_kkals > 80: A_score += 1\n",
    "\n",
    "    # Thresholds Poin Gula (g/100g)\n",
    "    if gula_g > 45: A_score += 10\n",
    "    elif gula_g > 40: A_score += 9\n",
    "    elif gula_g > 36: A_score += 8\n",
    "    elif gula_g > 31: A_score += 7\n",
    "    elif gula_g > 27: A_score += 6\n",
    "    elif gula_g > 22.5: A_score += 5\n",
    "    elif gula_g > 18: A_score += 4\n",
    "    elif gula_g > 13.5: A_score += 3\n",
    "    elif gula_g > 9: A_score += 2\n",
    "    elif gula_g > 4.5: A_score += 1\n",
    "\n",
    "    # Thresholds Poin Lemak Jenuh (g/100g) - Menggunakan ambang yang sama seperti lemak jenuh\n",
    "    if lemak_g > 10: A_score += 10\n",
    "    elif lemak_g > 9: A_score += 9\n",
    "    elif lemak_g > 8: A_score += 8\n",
    "    elif lemak_g > 7: A_score += 7\n",
    "    elif lemak_g > 6: A_score += 6\n",
    "    elif lemak_g > 5: A_score += 5\n",
    "    elif lemak_g > 4: A_score += 4\n",
    "    elif lemak_g > 3: A_score += 3\n",
    "    elif lemak_g > 2: A_score += 2\n",
    "    elif lemak_g > 1: A_score += 1\n",
    "        \n",
    "    # Thresholds Poin Garam (g/100g)\n",
    "    if garam_g > 1.5: A_score += 10\n",
    "    elif garam_g > 1.35: A_score += 9\n",
    "    elif garam_g > 1.2: A_score += 8\n",
    "    elif garam_g > 1.05: A_score += 7\n",
    "    elif garam_g > 0.9: A_score += 6\n",
    "    elif garam_g > 0.75: A_score += 5\n",
    "    elif garam_g > 0.6: A_score += 4\n",
    "    elif garam_g > 0.45: A_score += 3\n",
    "    elif garam_g > 0.3: A_score += 2\n",
    "    elif garam_g > 0.15: A_score += 1\n",
    "        \n",
    "    # ----------------------------------------------------------------------\n",
    "    # 3. PERHITUNGAN POIN C (Elemen Positif)\n",
    "    \n",
    "    C_score = 0\n",
    "    serat_g = norm_data.get('serat', 0)\n",
    "    protein_g = norm_data.get('protein', 0)\n",
    "    \n",
    "    # Thresholds Poin Serat (g/100g)\n",
    "    if serat_g >= 4.7: C_score += 5\n",
    "    elif serat_g >= 3.7: C_score += 4\n",
    "    elif serat_g >= 2.8: C_score += 3\n",
    "    elif serat_g >= 1.9: C_score += 2\n",
    "    elif serat_g >= 0.9: C_score += 1\n",
    "\n",
    "    # Thresholds Poin Protein (g/100g)\n",
    "    if protein_g >= 8.0: C_score += 5\n",
    "    elif protein_g >= 6.4: C_score += 4\n",
    "    elif protein_g >= 4.8: C_score += 3\n",
    "    elif protein_g >= 3.2: C_score += 2\n",
    "    elif protein_g >= 1.6: C_score += 1\n",
    "        \n",
    "    # ----------------------------------------------------------------------\n",
    "    # 4. KALKULASI AKHIR\n",
    "\n",
    "    final_score = A_score - C_score\n",
    "\n",
    "    # Konversi Skor ke Huruf (Thresholds Umum)\n",
    "    if final_score <= -1:\n",
    "        return \"A\"\n",
    "    elif final_score <= 2:\n",
    "        return \"B\"\n",
    "    elif final_score <= 10:\n",
    "        return \"C\"\n",
    "    elif final_score <= 18:\n",
    "        return \"D\"\n",
    "    else:\n",
    "        return \"E\""
   ]
  },
  {
   "cell_type": "code",
   "execution_count": 54,
   "id": "accb25d9",
   "metadata": {},
   "outputs": [
    {
     "name": "stdout",
     "output_type": "stream",
     "text": [
      "\n",
      "Nutri-Score Hasil Simplifikasi: B\n"
     ]
    }
   ],
   "source": [
    "\n",
    "\n",
    "nutri_score = calculate_nutri_score_simplified(final_cleaned_data)\n",
    "\n",
    "# print(f\"Data Per Porsi: {contoh_data_bersih}\")\n",
    "# print(f\"Berat Sajian: {contoh_data_bersih['takaran-satuan']} g\")\n",
    "print(f\"\\nNutri-Score Hasil Simplifikasi: {nutri_score}\")"
   ]
  },
  {
   "cell_type": "markdown",
   "id": "6773e9dd",
   "metadata": {},
   "source": [
    "# **INISIASI VARIABEL UNTUK DATABASE**"
   ]
  },
  {
   "cell_type": "code",
   "execution_count": 55,
   "id": "52c16a8a",
   "metadata": {},
   "outputs": [
    {
     "data": {
      "text/plain": [
       "{'garam': 0,\n",
       " 'gula': 0,\n",
       " 'kalori': 160,\n",
       " 'karbo': 0,\n",
       " 'lemak': 0,\n",
       " 'protein': 0,\n",
       " 'serat': 0}"
      ]
     },
     "execution_count": 55,
     "metadata": {},
     "output_type": "execute_result"
    }
   ],
   "source": [
    "total_nutrients"
   ]
  },
  {
   "cell_type": "code",
   "execution_count": null,
   "id": "a37b6faf",
   "metadata": {},
   "outputs": [],
   "source": [
    "# variabel-variabel yang siap masuk dalam database\n",
    "\n",
    "garam, gula, kalori, karbo, lemak, protein, serat = total_nutrients.values()\n",
    "nutri_score"
   ]
  },
  {
   "cell_type": "code",
   "execution_count": 61,
   "id": "a30fbf4d",
   "metadata": {},
   "outputs": [
    {
     "name": "stdout",
     "output_type": "stream",
     "text": [
      "nutri-score: B\n",
      "garam: 0\n",
      "gula: 0\n",
      "kalori: 160\n",
      "karbohidrat: 0\n",
      "lemak: 0\n",
      "protein: 0\n",
      "serat: 0\n"
     ]
    }
   ],
   "source": [
    "print(f'nutri-score: {nutri_score}\\ngaram: {garam}\\ngula: {gula}\\nkalori: {kalori}\\nkarbohidrat: {karbo}\\nlemak: {lemak}\\nprotein: {protein}\\nserat: {serat}')"
   ]
  },
  {
   "cell_type": "markdown",
   "id": "a5dd7ad3",
   "metadata": {},
   "source": [
    "# **Menyimpan library yang dibutuhkan** "
   ]
  },
  {
   "cell_type": "code",
   "execution_count": 58,
   "id": "44089778",
   "metadata": {},
   "outputs": [],
   "source": [
    "!pip freeze | grep -E 'ultralytics|torch|opencv-python|pandas|scikit-learn|pytesseract|Pillow|numpy|matplotlib|seaborn|tqdm' > requirements.txt"
   ]
  }
 ],
 "metadata": {
  "kernelspec": {
   "display_name": "ocr_env",
   "language": "python",
   "name": "python3"
  },
  "language_info": {
   "codemirror_mode": {
    "name": "ipython",
    "version": 3
   },
   "file_extension": ".py",
   "mimetype": "text/x-python",
   "name": "python",
   "nbconvert_exporter": "python",
   "pygments_lexer": "ipython3",
   "version": "3.10.18"
  }
 },
 "nbformat": 4,
 "nbformat_minor": 5
}
