{
  "nbformat": 4,
  "nbformat_minor": 0,
  "metadata": {
    "colab": {
      "provenance": [],
      "gpuType": "T4"
    },
    "kernelspec": {
      "name": "python3",
      "display_name": "Python 3"
    },
    "language_info": {
      "name": "python"
    },
    "accelerator": "GPU"
  },
  "cells": [
    {
      "cell_type": "code",
      "execution_count": 1,
      "metadata": {
        "colab": {
          "base_uri": "https://localhost:8080/"
        },
        "id": "F-oogxGZ6V52",
        "outputId": "02a20f45-019f-4902-9537-c0481c05ee6b"
      },
      "outputs": [
        {
          "output_type": "stream",
          "name": "stdout",
          "text": [
            "Collecting pytesseract\n",
            "  Downloading pytesseract-0.3.13-py3-none-any.whl.metadata (11 kB)\n",
            "Requirement already satisfied: packaging>=21.3 in /usr/local/lib/python3.12/dist-packages (from pytesseract) (25.0)\n",
            "Requirement already satisfied: Pillow>=8.0.0 in /usr/local/lib/python3.12/dist-packages (from pytesseract) (11.3.0)\n",
            "Downloading pytesseract-0.3.13-py3-none-any.whl (14 kB)\n",
            "Installing collected packages: pytesseract\n",
            "Successfully installed pytesseract-0.3.13\n"
          ]
        }
      ],
      "source": [
        "pip install pytesseract"
      ]
    },
    {
      "cell_type": "code",
      "source": [
        "pip install ultralytics"
      ],
      "metadata": {
        "colab": {
          "base_uri": "https://localhost:8080/"
        },
        "id": "y-JlRRKp6gS6",
        "outputId": "9a4dee3f-9ecc-4a69-cdd6-53ed6bdd09f8"
      },
      "execution_count": 4,
      "outputs": [
        {
          "output_type": "stream",
          "name": "stdout",
          "text": [
            "Collecting ultralytics\n",
            "  Downloading ultralytics-8.3.221-py3-none-any.whl.metadata (37 kB)\n",
            "Requirement already satisfied: numpy>=1.23.0 in /usr/local/lib/python3.12/dist-packages (from ultralytics) (2.0.2)\n",
            "Requirement already satisfied: matplotlib>=3.3.0 in /usr/local/lib/python3.12/dist-packages (from ultralytics) (3.10.0)\n",
            "Requirement already satisfied: opencv-python>=4.6.0 in /usr/local/lib/python3.12/dist-packages (from ultralytics) (4.12.0.88)\n",
            "Requirement already satisfied: pillow>=7.1.2 in /usr/local/lib/python3.12/dist-packages (from ultralytics) (11.3.0)\n",
            "Requirement already satisfied: pyyaml>=5.3.1 in /usr/local/lib/python3.12/dist-packages (from ultralytics) (6.0.3)\n",
            "Requirement already satisfied: requests>=2.23.0 in /usr/local/lib/python3.12/dist-packages (from ultralytics) (2.32.4)\n",
            "Requirement already satisfied: scipy>=1.4.1 in /usr/local/lib/python3.12/dist-packages (from ultralytics) (1.16.2)\n",
            "Requirement already satisfied: torch>=1.8.0 in /usr/local/lib/python3.12/dist-packages (from ultralytics) (2.8.0+cu126)\n",
            "Requirement already satisfied: torchvision>=0.9.0 in /usr/local/lib/python3.12/dist-packages (from ultralytics) (0.23.0+cu126)\n",
            "Requirement already satisfied: psutil in /usr/local/lib/python3.12/dist-packages (from ultralytics) (5.9.5)\n",
            "Requirement already satisfied: polars in /usr/local/lib/python3.12/dist-packages (from ultralytics) (1.25.2)\n",
            "Collecting ultralytics-thop>=2.0.0 (from ultralytics)\n",
            "  Downloading ultralytics_thop-2.0.17-py3-none-any.whl.metadata (14 kB)\n",
            "Requirement already satisfied: contourpy>=1.0.1 in /usr/local/lib/python3.12/dist-packages (from matplotlib>=3.3.0->ultralytics) (1.3.3)\n",
            "Requirement already satisfied: cycler>=0.10 in /usr/local/lib/python3.12/dist-packages (from matplotlib>=3.3.0->ultralytics) (0.12.1)\n",
            "Requirement already satisfied: fonttools>=4.22.0 in /usr/local/lib/python3.12/dist-packages (from matplotlib>=3.3.0->ultralytics) (4.60.1)\n",
            "Requirement already satisfied: kiwisolver>=1.3.1 in /usr/local/lib/python3.12/dist-packages (from matplotlib>=3.3.0->ultralytics) (1.4.9)\n",
            "Requirement already satisfied: packaging>=20.0 in /usr/local/lib/python3.12/dist-packages (from matplotlib>=3.3.0->ultralytics) (25.0)\n",
            "Requirement already satisfied: pyparsing>=2.3.1 in /usr/local/lib/python3.12/dist-packages (from matplotlib>=3.3.0->ultralytics) (3.2.5)\n",
            "Requirement already satisfied: python-dateutil>=2.7 in /usr/local/lib/python3.12/dist-packages (from matplotlib>=3.3.0->ultralytics) (2.9.0.post0)\n",
            "Requirement already satisfied: charset_normalizer<4,>=2 in /usr/local/lib/python3.12/dist-packages (from requests>=2.23.0->ultralytics) (3.4.4)\n",
            "Requirement already satisfied: idna<4,>=2.5 in /usr/local/lib/python3.12/dist-packages (from requests>=2.23.0->ultralytics) (3.11)\n",
            "Requirement already satisfied: urllib3<3,>=1.21.1 in /usr/local/lib/python3.12/dist-packages (from requests>=2.23.0->ultralytics) (2.5.0)\n",
            "Requirement already satisfied: certifi>=2017.4.17 in /usr/local/lib/python3.12/dist-packages (from requests>=2.23.0->ultralytics) (2025.10.5)\n",
            "Requirement already satisfied: filelock in /usr/local/lib/python3.12/dist-packages (from torch>=1.8.0->ultralytics) (3.20.0)\n",
            "Requirement already satisfied: typing-extensions>=4.10.0 in /usr/local/lib/python3.12/dist-packages (from torch>=1.8.0->ultralytics) (4.15.0)\n",
            "Requirement already satisfied: setuptools in /usr/local/lib/python3.12/dist-packages (from torch>=1.8.0->ultralytics) (75.2.0)\n",
            "Requirement already satisfied: sympy>=1.13.3 in /usr/local/lib/python3.12/dist-packages (from torch>=1.8.0->ultralytics) (1.13.3)\n",
            "Requirement already satisfied: networkx in /usr/local/lib/python3.12/dist-packages (from torch>=1.8.0->ultralytics) (3.5)\n",
            "Requirement already satisfied: jinja2 in /usr/local/lib/python3.12/dist-packages (from torch>=1.8.0->ultralytics) (3.1.6)\n",
            "Requirement already satisfied: fsspec in /usr/local/lib/python3.12/dist-packages (from torch>=1.8.0->ultralytics) (2025.3.0)\n",
            "Requirement already satisfied: nvidia-cuda-nvrtc-cu12==12.6.77 in /usr/local/lib/python3.12/dist-packages (from torch>=1.8.0->ultralytics) (12.6.77)\n",
            "Requirement already satisfied: nvidia-cuda-runtime-cu12==12.6.77 in /usr/local/lib/python3.12/dist-packages (from torch>=1.8.0->ultralytics) (12.6.77)\n",
            "Requirement already satisfied: nvidia-cuda-cupti-cu12==12.6.80 in /usr/local/lib/python3.12/dist-packages (from torch>=1.8.0->ultralytics) (12.6.80)\n",
            "Requirement already satisfied: nvidia-cudnn-cu12==9.10.2.21 in /usr/local/lib/python3.12/dist-packages (from torch>=1.8.0->ultralytics) (9.10.2.21)\n",
            "Requirement already satisfied: nvidia-cublas-cu12==12.6.4.1 in /usr/local/lib/python3.12/dist-packages (from torch>=1.8.0->ultralytics) (12.6.4.1)\n",
            "Requirement already satisfied: nvidia-cufft-cu12==11.3.0.4 in /usr/local/lib/python3.12/dist-packages (from torch>=1.8.0->ultralytics) (11.3.0.4)\n",
            "Requirement already satisfied: nvidia-curand-cu12==10.3.7.77 in /usr/local/lib/python3.12/dist-packages (from torch>=1.8.0->ultralytics) (10.3.7.77)\n",
            "Requirement already satisfied: nvidia-cusolver-cu12==11.7.1.2 in /usr/local/lib/python3.12/dist-packages (from torch>=1.8.0->ultralytics) (11.7.1.2)\n",
            "Requirement already satisfied: nvidia-cusparse-cu12==12.5.4.2 in /usr/local/lib/python3.12/dist-packages (from torch>=1.8.0->ultralytics) (12.5.4.2)\n",
            "Requirement already satisfied: nvidia-cusparselt-cu12==0.7.1 in /usr/local/lib/python3.12/dist-packages (from torch>=1.8.0->ultralytics) (0.7.1)\n",
            "Requirement already satisfied: nvidia-nccl-cu12==2.27.3 in /usr/local/lib/python3.12/dist-packages (from torch>=1.8.0->ultralytics) (2.27.3)\n",
            "Requirement already satisfied: nvidia-nvtx-cu12==12.6.77 in /usr/local/lib/python3.12/dist-packages (from torch>=1.8.0->ultralytics) (12.6.77)\n",
            "Requirement already satisfied: nvidia-nvjitlink-cu12==12.6.85 in /usr/local/lib/python3.12/dist-packages (from torch>=1.8.0->ultralytics) (12.6.85)\n",
            "Requirement already satisfied: nvidia-cufile-cu12==1.11.1.6 in /usr/local/lib/python3.12/dist-packages (from torch>=1.8.0->ultralytics) (1.11.1.6)\n",
            "Requirement already satisfied: triton==3.4.0 in /usr/local/lib/python3.12/dist-packages (from torch>=1.8.0->ultralytics) (3.4.0)\n",
            "Requirement already satisfied: six>=1.5 in /usr/local/lib/python3.12/dist-packages (from python-dateutil>=2.7->matplotlib>=3.3.0->ultralytics) (1.17.0)\n",
            "Requirement already satisfied: mpmath<1.4,>=1.1.0 in /usr/local/lib/python3.12/dist-packages (from sympy>=1.13.3->torch>=1.8.0->ultralytics) (1.3.0)\n",
            "Requirement already satisfied: MarkupSafe>=2.0 in /usr/local/lib/python3.12/dist-packages (from jinja2->torch>=1.8.0->ultralytics) (3.0.3)\n",
            "Downloading ultralytics-8.3.221-py3-none-any.whl (1.1 MB)\n",
            "\u001b[2K   \u001b[90m━━━━━━━━━━━━━━━━━━━━━━━━━━━━━━━━━━━━━━━━\u001b[0m \u001b[32m1.1/1.1 MB\u001b[0m \u001b[31m28.2 MB/s\u001b[0m eta \u001b[36m0:00:00\u001b[0m\n",
            "\u001b[?25hDownloading ultralytics_thop-2.0.17-py3-none-any.whl (28 kB)\n",
            "Installing collected packages: ultralytics-thop, ultralytics\n",
            "Successfully installed ultralytics-8.3.221 ultralytics-thop-2.0.17\n"
          ]
        }
      ]
    },
    {
      "cell_type": "code",
      "source": [
        "import cv2\n",
        "import os\n",
        "import re\n",
        "import math\n",
        "import numpy as np\n",
        "from ultralytics import YOLO\n",
        "import pytesseract\n",
        "from PIL import Image"
      ],
      "metadata": {
        "colab": {
          "base_uri": "https://localhost:8080/"
        },
        "id": "-zIHx55C6im0",
        "outputId": "adc72fb4-29cd-4b05-fc8c-ac66ef94c37e"
      },
      "execution_count": 5,
      "outputs": [
        {
          "output_type": "stream",
          "name": "stdout",
          "text": [
            "Creating new Ultralytics Settings v0.0.6 file ✅ \n",
            "View Ultralytics Settings with 'yolo settings' or at '/root/.config/Ultralytics/settings.json'\n",
            "Update Settings with 'yolo settings key=value', i.e. 'yolo settings runs_dir=path/to/dir'. For help see https://docs.ultralytics.com/quickstart/#ultralytics-settings.\n"
          ]
        }
      ]
    },
    {
      "cell_type": "markdown",
      "source": [
        "# **CONFIG TESTING**"
      ],
      "metadata": {
        "id": "Ax0YSZL6-thI"
      }
    },
    {
      "cell_type": "code",
      "source": [
        "# --- 0. Konfigurasi ---\n",
        "\n",
        "# Sesuaikan dengan model path yang dimiliki\n",
        "model_path = '/content/drive/MyDrive/CODE/yolo_model.pt'\n",
        "# Sesuikan dengan image path yang ingin di test\n",
        "image_path = '/content/drive/MyDrive/CODE/assets/image.jpg'\n",
        "\n",
        "output_crop_dir = \"cropped_objects\"\n",
        "CONF_THRESHOLD = 0.5\n",
        "\n",
        "# Pastikan direktori output ada\n",
        "os.makedirs(output_crop_dir, exist_ok=True)"
      ],
      "metadata": {
        "id": "VbEz1hy-6lAk"
      },
      "execution_count": 6,
      "outputs": []
    },
    {
      "cell_type": "markdown",
      "source": [
        "# **DATA LOADING**"
      ],
      "metadata": {
        "id": "MIx_7Sqo-rFh"
      }
    },
    {
      "cell_type": "code",
      "source": [
        "# Image Loading\n",
        "try:\n",
        "    model = YOLO(model_path, task='obb') # Tentukan task='obb' secara eksplisit\n",
        "except Exception as e:\n",
        "    print(f\"Gagal memuat model: {e}\")\n",
        "    exit()\n",
        "\n",
        "# Muat gambar dan ubah ukuran\n",
        "original_image = cv2.imread(image_path)\n",
        "if original_image is None:\n",
        "    print(f\"Gagal memuat gambar dari: {image_path}\")\n",
        "    exit()\n",
        "\n",
        "# Gambar yang di-resize harus dalam BGR (default CV2) agar sesuai dengan hasil BBox\n",
        "resized_image = cv2.resize(original_image, (640, 640), interpolation=cv2.INTER_LINEAR)"
      ],
      "metadata": {
        "id": "7YxoUU_f9XlN"
      },
      "execution_count": 7,
      "outputs": []
    },
    {
      "cell_type": "markdown",
      "source": [
        "# **PREDICTION**"
      ],
      "metadata": {
        "id": "zcEYbvno-nTJ"
      }
    },
    {
      "cell_type": "code",
      "source": [
        "\n",
        "# Model Prediction\n",
        "results = model.predict(\n",
        "    source=resized_image,\n",
        "    conf=CONF_THRESHOLD,\n",
        "    save=False,\n",
        "    verbose=True # Matikan output log yang berlebihan\n",
        ")"
      ],
      "metadata": {
        "colab": {
          "base_uri": "https://localhost:8080/"
        },
        "id": "Ua4H2ppN9ali",
        "outputId": "0acc9b75-dc68-4451-e953-cdb214d15606"
      },
      "execution_count": 8,
      "outputs": [
        {
          "output_type": "stream",
          "name": "stdout",
          "text": [
            "\n",
            "0: 640x640 1 garam, 1 kalori, 1 lemak, 1 nutrition-fact, 1 protein, 38.4ms\n",
            "Speed: 8.7ms preprocess, 38.4ms inference, 209.7ms postprocess per image at shape (1, 3, 640, 640)\n"
          ]
        }
      ]
    },
    {
      "cell_type": "code",
      "source": [
        "# Dictionary ini akan menyimpan deteksi terbaik untuk setiap label kelas\n",
        "best_detections = {}\n",
        "\n",
        "for r in results:\n",
        "    # Mengakses hasil OBB\n",
        "    # Gunakan r.boxes untuk kotak batas persegi standar (lebih mudah untuk cropping)\n",
        "    boxes = r.boxes if r.boxes is not None and len(r.boxes) > 0 else (r.obb if hasattr(r, 'obb') and r.obb is not None else None)\n",
        "\n",
        "    # Perbaikan: Cek apakah ada deteksi yang valid\n",
        "    if boxes is None or len(boxes) == 0:\n",
        "        continue\n",
        "\n",
        "    # Filter Object duplikat\n",
        "    for box in boxes:\n",
        "        conf = box.conf[0].item()\n",
        "        cls = box.cls[0].item()\n",
        "        label = model.names.get(int(cls), f\"Unknown_{int(cls)}\")\n",
        "\n",
        "        # tidak membutuhkan object nutrition-fact\n",
        "        if label == \"nutrition-fact\":\n",
        "            continue\n",
        "\n",
        "        # menyimpan hasil deteksi\n",
        "        # Kunci (key) adalah label, Nilai (value) adalah dictionary berisi box dan conf\n",
        "        if label not in best_detections or conf > best_detections[label]['conf']:\n",
        "            best_detections[label] = {\n",
        "                'box': box,\n",
        "                'conf': conf,\n",
        "                'cls': cls\n",
        "            }"
      ],
      "metadata": {
        "id": "ZvFzG-vF9eLH"
      },
      "execution_count": 9,
      "outputs": []
    },
    {
      "cell_type": "markdown",
      "source": [
        "# **CROPPING**"
      ],
      "metadata": {
        "id": "MCdZbfu--jRE"
      }
    },
    {
      "cell_type": "code",
      "source": [
        "print(\"\\n--- Proses Cropping Dimulai ---\")\n",
        "detection_count = 0\n",
        "\n",
        "# Iterasi Croping\n",
        "for label, data in best_detections.items():\n",
        "\n",
        "    # Ambil data dari deteksi terbaik\n",
        "    box = data['box']\n",
        "    conf = data['conf']\n",
        "    cls = data['cls']\n",
        "\n",
        "    # Mendapatkan BBox dan Label\n",
        "    # Koordinat dalam bentuk (x1, y1, x2, y2)\n",
        "    xyxy_tensor = box.xyxy[0].cpu() # Ambil tensor, pastikan di CPU\n",
        "    x_min, y_min, x_max, y_max = xyxy_tensor.numpy().astype(int)\n",
        "\n",
        "    # Melakukan cropping dengan Slicing NumPy (CV2)\n",
        "    # Format Slicing: [y_min:y_max, x_min:x_max]\n",
        "    cropped_segment = resized_image[y_min:y_max, x_min:x_max]\n",
        "\n",
        "    # Chekck and save image\n",
        "    # Minimal lebar atau tinggi 1 piksel\n",
        "    if cropped_segment.shape[0] > 1 and cropped_segment.shape[1] > 1:\n",
        "        # Nama file: label_index_conf.jpg\n",
        "        output_filename = os.path.join(output_crop_dir, f\"{label}_{detection_count:02d}_{int(conf*100)}.jpg\")\n",
        "        cv2.imwrite(output_filename, cropped_segment)\n",
        "\n",
        "        print(f\"✅ Berhasil crop '{label}' (Conf: {conf:.2f}). Disimpan di: {output_filename}\")\n",
        "        detection_count += 1\n",
        "    else:\n",
        "        print(f\"❌ Gagal crop '{label}'. BBox sangat kecil atau tidak valid.\")\n",
        "\n",
        "print(f\"\\nProses selesai. Total {detection_count} objek unik telah di-crop dan disimpan di direktori '{output_crop_dir}'.\")"
      ],
      "metadata": {
        "colab": {
          "base_uri": "https://localhost:8080/"
        },
        "id": "WEmx6U1o9ghB",
        "outputId": "0c67e506-daee-4ca5-a847-ada7e963cae4"
      },
      "execution_count": 10,
      "outputs": [
        {
          "output_type": "stream",
          "name": "stdout",
          "text": [
            "\n",
            "--- Proses Cropping Dimulai ---\n",
            "✅ Berhasil crop 'lemak' (Conf: 0.88). Disimpan di: cropped_objects/lemak_00_87.jpg\n",
            "✅ Berhasil crop 'kalori' (Conf: 0.87). Disimpan di: cropped_objects/kalori_01_87.jpg\n",
            "✅ Berhasil crop 'protein' (Conf: 0.62). Disimpan di: cropped_objects/protein_02_62.jpg\n",
            "✅ Berhasil crop 'garam' (Conf: 0.59). Disimpan di: cropped_objects/garam_03_59.jpg\n",
            "\n",
            "Proses selesai. Total 4 objek unik telah di-crop dan disimpan di direktori 'cropped_objects'.\n"
          ]
        }
      ]
    },
    {
      "cell_type": "markdown",
      "source": [
        "# **INFERENCE OCR**"
      ],
      "metadata": {
        "id": "bGE0SLZD-fyU"
      }
    },
    {
      "cell_type": "code",
      "source": [
        "\n",
        "# --- Konfigurasi ---\n",
        "# Direktori tempat gambar hasil crop Anda berada\n",
        "INPUT_CROP_DIR = \"cropped_objects\"\n",
        "# Faktor penskalaan untuk memperbesar gambar (misalnya 3x)\n",
        "UPSCALE_FACTOR = 5\n",
        "\n",
        "# Opsional: Tentukan path Tesseract jika tidak terdeteksi oleh sistem\n",
        "# Contoh Windows:\n",
        "# pytesseract.pytesseract.tesseract_cmd = r'C:\\Program Files\\Tesseract-OCR\\tesseract.exe'\n",
        "\n",
        "# --- Proses Utama OCR (Tanpa Preprocessing CV2) ---\n",
        "print(f\"Memulai proses OCR hanya dengan upscaling {UPSCALE_FACTOR}x pada gambar di '{INPUT_CROP_DIR}'...\")\n",
        "\n",
        "extracted_data = {}\n",
        "\n",
        "for filename in os.listdir(INPUT_CROP_DIR):\n",
        "    if filename.endswith((\".jpg\", \".jpeg\", \".png\")):\n",
        "\n",
        "        file_path = os.path.join(INPUT_CROP_DIR, filename)\n",
        "\n",
        "        # Dapatkan label objek (misalnya 'garam_01.jpg' -> 'garam')\n",
        "        try:\n",
        "            object_label = filename.split('_')[0]\n",
        "        except IndexError:\n",
        "            object_label = \"unknown\"\n",
        "\n",
        "        # 1. Muat Gambar Asli (Hasil Crop)\n",
        "        img_cv2 = cv2.imread(file_path)\n",
        "\n",
        "        if img_cv2 is None:\n",
        "            print(f\"Gagal memuat {filename}.\")\n",
        "            continue\n",
        "\n",
        "        # 2. Upscaling (Penskalaan)\n",
        "        # Penting untuk teks kecil. INTER_CUBIC menjaga ketajaman tepi.\n",
        "        upscaled_img = cv2.resize(\n",
        "            img_cv2,\n",
        "            None,\n",
        "            fx=UPSCALE_FACTOR,\n",
        "            fy=UPSCALE_FACTOR,\n",
        "            interpolation=cv2.INTER_CUBIC\n",
        "        )\n",
        "\n",
        "        # 3. Konversi cv2 (NumPy array BGR) ke PIL Image (Pytesseract)\n",
        "        # Pytesseract akan menangani konversi grayscale/biner secara internal.\n",
        "        img_pil = Image.fromarray(cv2.cvtColor(upscaled_img, cv2.COLOR_BGR2RGB)) # Konversi BGR ke RGB untuk PIL\n",
        "\n",
        "        # 4. Terapkan OCR dengan Konfigurasi\n",
        "        # --psm 7: Asumsi satu baris teks (ideal untuk label nutrisi)\n",
        "        # --oem 3: Gunakan mesin Tesseract terbaru\n",
        "        custom_config = r'--oem 3 --psm 7'\n",
        "\n",
        "        text = pytesseract.image_to_string(img_pil, config=custom_config)\n",
        "\n",
        "        # Bersihkan teks\n",
        "        cleaned_text = text.strip().replace('\\n', ' ').replace('|', 'l')\n",
        "\n",
        "        extracted_data[object_label] = cleaned_text\n",
        "\n",
        "        print(f\"\\n--- {filename} ({object_label}) ---\")\n",
        "        print(f\"Teks Terekstrak: {cleaned_text}\")\n",
        "\n",
        "# --- Ringkasan Hasil ---\n",
        "print(\"\\n----------------------------------------------------\")\n",
        "print(\"✅ Ringkasan Data Terekstrak Akhir:\")\n",
        "for key, value in extracted_data.items():\n",
        "    print(f\"{key:<10}: {value}\")\n",
        "print(\"----------------------------------------------------\")"
      ],
      "metadata": {
        "colab": {
          "base_uri": "https://localhost:8080/"
        },
        "id": "tCBzZQyw9ikv",
        "outputId": "30fb4f47-b289-41e7-8204-b9b1821ed4ae"
      },
      "execution_count": 11,
      "outputs": [
        {
          "output_type": "stream",
          "name": "stdout",
          "text": [
            "Memulai proses OCR hanya dengan upscaling 5x pada gambar di 'cropped_objects'...\n",
            "\n",
            "--- protein_02_62.jpg (protein) ---\n",
            "Teks Terekstrak: _—— “>.\n",
            "\n",
            "--- lemak_00_87.jpg (lemak) ---\n",
            "Teks Terekstrak: - Lemek Jenuh 156\n",
            "\n",
            "--- garam_03_59.jpg (garam) ---\n",
            "Teks Terekstrak: _ Garam (Neatriurn) as —\n",
            "\n",
            "--- kalori_01_87.jpg (kalori) ---\n",
            "Teks Terekstrak: See Vote ae 110 kke\n",
            "\n",
            "----------------------------------------------------\n",
            "✅ Ringkasan Data Terekstrak Akhir:\n",
            "protein   : _—— “>.\n",
            "lemak     : - Lemek Jenuh 156\n",
            "garam     : _ Garam (Neatriurn) as —\n",
            "kalori    : See Vote ae 110 kke\n",
            "----------------------------------------------------\n"
          ]
        }
      ]
    },
    {
      "cell_type": "markdown",
      "source": [
        "# **EXTRACT VALUE**"
      ],
      "metadata": {
        "id": "r9N-NT11-cdH"
      }
    },
    {
      "cell_type": "markdown",
      "source": [
        "## base value"
      ],
      "metadata": {
        "id": "NSGEKRYb-atZ"
      }
    },
    {
      "cell_type": "code",
      "source": [
        "def clean_and_transform_data(extracted_data: dict) -> dict:\n",
        "\n",
        "    REQUIRED_KEYS = [\n",
        "        \"garam\",\n",
        "        \"gula\",\n",
        "        \"kalori\",\n",
        "        \"karbo\",\n",
        "        \"lemak\",\n",
        "        \"protein\",\n",
        "        \"serving\",\n",
        "        \"takaran-satuan\",\n",
        "        \"serat\"\n",
        "    ]\n",
        "\n",
        "    # Buat dictionary hasil dengan semua value = 0 (kecuali serving = 1)\n",
        "    cleaned_data = {\n",
        "        key: (1 if key == \"serving\" else 0)\n",
        "        for key in REQUIRED_KEYS\n",
        "    }\n",
        "\n",
        "    # 2. PROSES: Ekstraksi dan Pembatasan\n",
        "    for key, value in extracted_data.items():\n",
        "\n",
        "        # Hanya proses jika kunci tersebut termasuk dalam daftar wajib\n",
        "        if key in REQUIRED_KEYS:\n",
        "\n",
        "            # --- LANGKAH 1: EKSTRAKSI TOTAL (Mengambil SEMUA digit) ---\n",
        "            # Regex: Hapus semua karakter non-digit (\\D)\n",
        "            # Ini menangani kasus seperti \"10.5g\" menjadi \"105\"\n",
        "            all_digits_string = re.sub(r'\\D', '', value)\n",
        "\n",
        "            # --- LANGKAH 2: PEMBATASAN DAN KONVERSI ---\n",
        "\n",
        "            if all_digits_string:\n",
        "                # Ambil hanya 3 karakter pertama (slicing)\n",
        "                max_3_digits_string = all_digits_string[:3]\n",
        "\n",
        "                try:\n",
        "                    # Konversi ke Integer\n",
        "                    integer_value = int(max_3_digits_string)\n",
        "\n",
        "                    # Hanya update jika nilai baru lebih besar atau kunci bukan 'serving'\n",
        "                    # Ini mencegah nilai inisiasi 'serving' 1 tertimpa oleh 0\n",
        "                    if integer_value > 0 or key != \"serving\":\n",
        "                        cleaned_data[key] = integer_value\n",
        "\n",
        "                except ValueError:\n",
        "                    # Biarkan nilai tetap jika konversi gagal\n",
        "                    pass\n",
        "\n",
        "    return cleaned_data"
      ],
      "metadata": {
        "id": "IKwoEGyz9kzF"
      },
      "execution_count": 12,
      "outputs": []
    },
    {
      "cell_type": "code",
      "source": [
        "# Panggil fungsi\n",
        "final_cleaned_data = clean_and_transform_data(extracted_data)\n",
        "\n",
        "# Mencetak hasil akhir\n",
        "print(\"\\n--- Hasil Akhir Setelah Transformasi ---\")\n",
        "for key, value in final_cleaned_data.items():\n",
        "    print(f\"{key:<15}: {value}\")"
      ],
      "metadata": {
        "colab": {
          "base_uri": "https://localhost:8080/"
        },
        "id": "iib-J4V39nB4",
        "outputId": "bf1eb1c1-3f65-4d9b-c677-0d29a32c5760"
      },
      "execution_count": 13,
      "outputs": [
        {
          "output_type": "stream",
          "name": "stdout",
          "text": [
            "\n",
            "--- Hasil Akhir Setelah Transformasi ---\n",
            "garam          : 0\n",
            "gula           : 0\n",
            "kalori         : 110\n",
            "karbo          : 0\n",
            "lemak          : 156\n",
            "protein        : 0\n",
            "serving        : 1\n",
            "takaran-satuan : 0\n",
            "serat          : 0\n"
          ]
        }
      ]
    },
    {
      "cell_type": "markdown",
      "source": [
        "## Total Nutrition"
      ],
      "metadata": {
        "id": "QT18e2SI-W2i"
      }
    },
    {
      "cell_type": "code",
      "source": [
        "def calculate_total_nutrients(cleaned_data: dict) -> dict:\n",
        "\n",
        "    # 1. Pastikan nilai 'serving' ada dan bukan nol.\n",
        "    # Jika serving tidak ada (misalnya karena gagal dideteksi), diasumsikan 1.\n",
        "    serving_value = cleaned_data.get('serving', 1)\n",
        "    if serving_value == 0:\n",
        "        serving_value = 1 # Menghindari perkalian dengan nol yang akan menghasilkan nol\n",
        "\n",
        "    # Kunci yang ingin dihitung totalnya (hanya nutrisi)\n",
        "    NUTRIENT_KEYS = [\n",
        "        \"garam\",\n",
        "        \"gula\",\n",
        "        \"kalori\",\n",
        "        \"karbo\",\n",
        "        \"lemak\",\n",
        "        \"protein\",\n",
        "        \"serat\"\n",
        "    ]\n",
        "\n",
        "    final_nutrients = {}\n",
        "\n",
        "    # Kalkulasi\n",
        "    for key in NUTRIENT_KEYS:\n",
        "        # Ambil nilai nutrisi, jika tidak terdeteksi, value = 0\n",
        "        nutrient_value = cleaned_data.get(key, 0)\n",
        "\n",
        "        # Hitung Total Nutrisi per Kemasan\n",
        "        total_value = nutrient_value * serving_value\n",
        "\n",
        "        # Simpan hasil dalam dictionary final\n",
        "        final_nutrients[key] = total_value\n",
        "\n",
        "\n",
        "    return final_nutrients"
      ],
      "metadata": {
        "id": "sqPuGCQY9pEZ"
      },
      "execution_count": 14,
      "outputs": []
    },
    {
      "cell_type": "code",
      "source": [
        "# Panggil fungsi kalkulasi\n",
        "total_nutrients = calculate_total_nutrients(final_cleaned_data)\n",
        "\n",
        "# Mencetak hasil\n",
        "print(\"\\n--- Total Nutrisi Per Kemasan ---\")\n",
        "for key, value in total_nutrients.items():\n",
        "    print(f\"{key:<10}: {value}\")"
      ],
      "metadata": {
        "colab": {
          "base_uri": "https://localhost:8080/"
        },
        "id": "0qJRYsnQ9rJL",
        "outputId": "cb1d76d3-91bb-47a3-d3ac-c181bcdfdc8f"
      },
      "execution_count": 15,
      "outputs": [
        {
          "output_type": "stream",
          "name": "stdout",
          "text": [
            "\n",
            "--- Total Nutrisi Per Kemasan ---\n",
            "garam     : 0\n",
            "gula      : 0\n",
            "kalori    : 110\n",
            "karbo     : 0\n",
            "lemak     : 156\n",
            "protein   : 0\n",
            "serat     : 0\n"
          ]
        }
      ]
    },
    {
      "cell_type": "markdown",
      "source": [
        "## Nutri-Score"
      ],
      "metadata": {
        "id": "r740TJaw-SmK"
      }
    },
    {
      "cell_type": "code",
      "source": [
        "def calculate_nutri_score_simplified(cleaned_data: dict) -> str:\n",
        "    \"\"\"\n",
        "    Menghitung Nutri-Score (A hingga E) untuk makanan padat.\n",
        "    Mengacu pada pedoman resmi Nutri-Score (EU/Singapura).\n",
        "\n",
        "    Args:\n",
        "        cleaned_data (dict): Data nutrisi per sajian.\n",
        "            Wajib mengandung kunci:\n",
        "            'kalori' (kkal), 'gula' (g), 'lemak' (g),\n",
        "            'natrium' (mg), 'protein' (g), 'serat' (g), 'takaran-satuan' (g)\n",
        "\n",
        "    Returns:\n",
        "        str: Huruf Nutri-Score (A, B, C, D, atau E)\n",
        "    \"\"\"\n",
        "\n",
        "    #  Normalisasi ke per 100g\n",
        "    serving_weight_g = cleaned_data.get('takaran-satuan', 100)\n",
        "    if serving_weight_g <= 0:\n",
        "        serving_weight_g = 100\n",
        "\n",
        "    factor = 100 / serving_weight_g\n",
        "\n",
        "    norm_data = {}\n",
        "    for key in [\"kalori\", \"gula\", \"lemak\", \"natrium\", \"protein\", \"serat\"]:\n",
        "        value = cleaned_data.get(key, 0)\n",
        "        norm_data[key] = value * factor\n",
        "\n",
        "    #  POIN A (negatif): energi, gula, lemak jenuh, natrium\n",
        "    A_score = 0\n",
        "\n",
        "    # Energi (kcal → kJ)\n",
        "    energi_kj = norm_data.get('kalori', 0) * 4.184\n",
        "    gula_g = norm_data.get('gula', 0)\n",
        "    lemak_g = norm_data.get('lemak', 0)\n",
        "    natrium_mg = norm_data.get('natrium', 0)\n",
        "\n",
        "    # Energi (kJ/100g)\n",
        "    if energi_kj > 3350: A_score += 10\n",
        "    elif energi_kj > 3015: A_score += 9\n",
        "    elif energi_kj > 2680: A_score += 8\n",
        "    elif energi_kj > 2345: A_score += 7\n",
        "    elif energi_kj > 2010: A_score += 6\n",
        "    elif energi_kj > 1675: A_score += 5\n",
        "    elif energi_kj > 1340: A_score += 4\n",
        "    elif energi_kj > 1005: A_score += 3\n",
        "    elif energi_kj > 670: A_score += 2\n",
        "    elif energi_kj > 335: A_score += 1\n",
        "\n",
        "    # Gula total (g/100g)\n",
        "    if gula_g > 45: A_score += 10\n",
        "    elif gula_g > 40: A_score += 9\n",
        "    elif gula_g > 36: A_score += 8\n",
        "    elif gula_g > 31: A_score += 7\n",
        "    elif gula_g > 27: A_score += 6\n",
        "    elif gula_g > 22.5: A_score += 5\n",
        "    elif gula_g > 18: A_score += 4\n",
        "    elif gula_g > 13.5: A_score += 3\n",
        "    elif gula_g > 9: A_score += 2\n",
        "    elif gula_g > 4.5: A_score += 1\n",
        "\n",
        "    # Lemak jenuh (g/100g)\n",
        "    if lemak_g > 10: A_score += 10\n",
        "    elif lemak_g > 9: A_score += 9\n",
        "    elif lemak_g > 8: A_score += 8\n",
        "    elif lemak_g > 7: A_score += 7\n",
        "    elif lemak_g > 6: A_score += 6\n",
        "    elif lemak_g > 5: A_score += 5\n",
        "    elif lemak_g > 4: A_score += 4\n",
        "    elif lemak_g > 3: A_score += 3\n",
        "    elif lemak_g > 2: A_score += 2\n",
        "    elif lemak_g > 1: A_score += 1\n",
        "\n",
        "    # Natrium (mg/100g)\n",
        "    if natrium_mg > 900: A_score += 10\n",
        "    elif natrium_mg > 810: A_score += 9\n",
        "    elif natrium_mg > 720: A_score += 8\n",
        "    elif natrium_mg > 630: A_score += 7\n",
        "    elif natrium_mg > 540: A_score += 6\n",
        "    elif natrium_mg > 450: A_score += 5\n",
        "    elif natrium_mg > 360: A_score += 4\n",
        "    elif natrium_mg > 270: A_score += 3\n",
        "    elif natrium_mg > 180: A_score += 2\n",
        "    elif natrium_mg > 90: A_score += 1\n",
        "\n",
        "    #  POIN C (positif): serat, protein\n",
        "    C_score = 0\n",
        "    serat_g = norm_data.get('serat', 0)\n",
        "    protein_g = norm_data.get('protein', 0)\n",
        "\n",
        "    # Serat (g/100g)\n",
        "    if serat_g >= 4.7: C_score += 5\n",
        "    elif serat_g >= 3.7: C_score += 4\n",
        "    elif serat_g >= 2.8: C_score += 3\n",
        "    elif serat_g >= 1.9: C_score += 2\n",
        "    elif serat_g >= 0.9: C_score += 1\n",
        "\n",
        "    # Protein (g/100g)\n",
        "    if protein_g >= 8.0: C_score += 5\n",
        "    elif protein_g >= 6.4: C_score += 4\n",
        "    elif protein_g >= 4.8: C_score += 3\n",
        "    elif protein_g >= 3.2: C_score += 2\n",
        "    elif protein_g >= 1.6: C_score += 1\n",
        "\n",
        "    #  Skor akhir dan konversi ke huruf\n",
        "    final_score = A_score - C_score\n",
        "\n",
        "    if final_score <= -1:\n",
        "        return \"A\"\n",
        "    elif final_score <= 2:\n",
        "        return \"B\"\n",
        "    elif final_score <= 10:\n",
        "        return \"C\"\n",
        "    elif final_score <= 18:\n",
        "        return \"D\"\n",
        "    else:\n",
        "        return \"E\"\n"
      ],
      "metadata": {
        "id": "7yL0XoHF9tKp"
      },
      "execution_count": 16,
      "outputs": []
    },
    {
      "cell_type": "code",
      "source": [
        "\n",
        "\n",
        "nutri_score = calculate_nutri_score_simplified(final_cleaned_data)\n",
        "\n",
        "# print(f\"Data Per Porsi: {contoh_data_bersih}\")\n",
        "# print(f\"Berat Sajian: {contoh_data_bersih['takaran-satuan']} g\")\n",
        "print(f\"\\nNutri-Score Hasil Simplifikasi: {nutri_score}\")"
      ],
      "metadata": {
        "colab": {
          "base_uri": "https://localhost:8080/"
        },
        "id": "KKV5Ohiw9wNX",
        "outputId": "75f5898d-67f9-4fa2-9faa-d2c708158bf9"
      },
      "execution_count": 17,
      "outputs": [
        {
          "output_type": "stream",
          "name": "stdout",
          "text": [
            "\n",
            "Nutri-Score Hasil Simplifikasi: D\n"
          ]
        }
      ]
    },
    {
      "cell_type": "markdown",
      "source": [
        "# **INISIASI VARIABEL UNTUK DATABASE**"
      ],
      "metadata": {
        "id": "o7Ho9iO7-Mps"
      }
    },
    {
      "cell_type": "code",
      "source": [
        "total_nutrients"
      ],
      "metadata": {
        "colab": {
          "base_uri": "https://localhost:8080/"
        },
        "id": "hjw3EdFL9yiO",
        "outputId": "53ff5c5e-4b59-4201-ec04-e1a26bf76412"
      },
      "execution_count": 18,
      "outputs": [
        {
          "output_type": "execute_result",
          "data": {
            "text/plain": [
              "{'garam': 0,\n",
              " 'gula': 0,\n",
              " 'kalori': 110,\n",
              " 'karbo': 0,\n",
              " 'lemak': 156,\n",
              " 'protein': 0,\n",
              " 'serat': 0}"
            ]
          },
          "metadata": {},
          "execution_count": 18
        }
      ]
    },
    {
      "cell_type": "code",
      "source": [
        "# variabel-variabel yang siap masuk dalam database\n",
        "\n",
        "garam, gula, kalori, karbo, lemak, protein, serat = total_nutrients.values()\n",
        "nutri_score"
      ],
      "metadata": {
        "colab": {
          "base_uri": "https://localhost:8080/",
          "height": 36
        },
        "id": "860f5x0y91VP",
        "outputId": "81a77688-4cd7-4cbd-a8cd-dbd15bcd713a"
      },
      "execution_count": 19,
      "outputs": [
        {
          "output_type": "execute_result",
          "data": {
            "text/plain": [
              "'D'"
            ],
            "application/vnd.google.colaboratory.intrinsic+json": {
              "type": "string"
            }
          },
          "metadata": {},
          "execution_count": 19
        }
      ]
    },
    {
      "cell_type": "code",
      "source": [
        "print(f'nutri-score: {nutri_score}\\ngaram: {garam}\\ngula: {gula}\\nkalori: {kalori}\\nkarbohidrat: {karbo}\\nlemak: {lemak}\\nprotein: {protein}\\nserat: {serat}')"
      ],
      "metadata": {
        "colab": {
          "base_uri": "https://localhost:8080/"
        },
        "id": "Bgz4bs0x-Cdm",
        "outputId": "91f1533f-d6f2-4539-bfe6-bc7470bdee55"
      },
      "execution_count": 20,
      "outputs": [
        {
          "output_type": "stream",
          "name": "stdout",
          "text": [
            "nutri-score: D\n",
            "garam: 0\n",
            "gula: 0\n",
            "kalori: 110\n",
            "karbohidrat: 0\n",
            "lemak: 156\n",
            "protein: 0\n",
            "serat: 0\n"
          ]
        }
      ]
    },
    {
      "cell_type": "markdown",
      "source": [
        "# **Menyimpan library yang dibutuhkan**"
      ],
      "metadata": {
        "id": "JNGnLtdN-Jp4"
      }
    },
    {
      "cell_type": "code",
      "source": [
        "!pip freeze | grep -E 'ultralytics|torch|opencv-python|pandas|scikit-learn|pytesseract|Pillow|numpy|matplotlib|seaborn|tqdm' > requirements.txt"
      ],
      "metadata": {
        "id": "lHV7eHPa-ERw"
      },
      "execution_count": 21,
      "outputs": []
    },
    {
      "cell_type": "code",
      "source": [],
      "metadata": {
        "id": "qfy6bNPi-Gv-"
      },
      "execution_count": null,
      "outputs": []
    }
  ]
}